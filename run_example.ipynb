{
 "cells": [
  {
   "cell_type": "markdown",
   "id": "49347ad4d7beba8a",
   "metadata": {},
   "source": [
    "# Program Example Run of Linear Least Square Method"
   ]
  },
  {
   "cell_type": "code",
   "execution_count": null,
   "id": "e44319c3-38c0-4996-89db-0c456c4429ea",
   "metadata": {},
   "outputs": [
    {
     "name": "stdout",
     "output_type": "stream",
     "text": [
      "\n",
      "═════ Data Input Options ═════\n",
      "1. Manual input (2D points)\n",
      "2. Manual input (multidimensional)\n",
      "3. Load from CSV file\n",
      "4. Generate synthetic data\n",
      "5. Use example dataset\n",
      "════════════════════════════════\n"
     ]
    },
    {
     "name": "stdin",
     "output_type": "stream",
     "text": [
      "\n",
      "Choose option (1-5):  5\n"
     ]
    },
    {
     "name": "stdout",
     "output_type": "stream",
     "text": [
      "\n",
      "═══════ Example datasets ═══════\n",
      "1. House prices (size vs price)\n",
      "2. Temperature data (time vs temp)\n",
      "3. Quadratic function\n",
      "4. Sinusoidal function\n",
      "════════════════════════════════\n",
      "\n"
     ]
    },
    {
     "name": "stdin",
     "output_type": "stream",
     "text": [
      "Choose example (1-4):  4\n"
     ]
    },
    {
     "name": "stdout",
     "output_type": "stream",
     "text": [
      "\n",
      "═════════ DATA LOADED ═════════\n",
      "X shape: (100, 1)\n",
      "y shape: (100,)\n",
      "═══════════════════════════════\n",
      "\n",
      "══════ Regression Engines ══════\n",
      "1. Python with Numpy\n",
      "2. Python with Numba\n",
      "3. Pure Python with for-loops\n",
      "\u001b[1m* Lasso/ElasticNet use sklearn coordinate descent\u001b[0m\n",
      "════════════════════════════════\n"
     ]
    },
    {
     "name": "stdin",
     "output_type": "stream",
     "text": [
      "\n",
      "Choose option (1-3):  2\n"
     ]
    },
    {
     "name": "stdout",
     "output_type": "stream",
     "text": [
      "\n",
      "═════ Types of regression ══════\n",
      "1. Linear regression (Least Squares)\n",
      "2. Ridge regression (Least Squares)\n",
      "3. Lasso Regression (CoordinateDescent)\n",
      "4. Elastic Net Regression (CoordinateDescent)\n",
      "════════════════════════════════\n",
      "\n"
     ]
    },
    {
     "name": "stdin",
     "output_type": "stream",
     "text": [
      "Enter types of regression you would you like to try: (for example: \u001b[1mall\u001b[0m or \u001b[1m1,2,3\u001b[0m or \u001b[1m4\u001b[0m):  all\n"
     ]
    },
    {
     "name": "stdout",
     "output_type": "stream",
     "text": [
      "\n",
      "════ Types of function fit ════\n",
      "1. Linear (y = a + b*x)\n",
      "2. Quadratic (y = a + b*x + c*x^2)\n",
      "3. Cubic (y = a + b*x + c*x^2 + d*x^3)\n",
      "4. Quartic (y = a + b*x + c*x^2 + d*x^3 + e*x^4)\n",
      "5. Quintic (y = a + b*x + c*x^2 + ... + e*x^4 + f*x^5)\n",
      "6. Sextic (y = a + b*x + c*x^2 + ... + f*x^5 + g*x^6)\n",
      "7. Septic (y = a + b*x + ... + h*x^7)\n",
      "8. Log-Linear (y = a + b*log(x))\n",
      "9. Log-Polynomial (y = a + b*log(x) + c*log(x)^2)\n",
      "10. Semi-Log (log(y) = a + b*x)\n",
      "11. Square Root (y = a + b*sqrt(x))\n",
      "12. Inverse (y = a + b/x)\n",
      "13. Log-Sqrt (y = a + b*log(x) + c*sqrt(x))\n",
      "14. Mixed (y = a + b*x + c*log(x))\n",
      "15. Poly-Log (y = a + b*x + c*x^2 + d*log(x))\n",
      "16. Volatility Mix (y = a + b*sqrt(x) + c/x)\n",
      "════════════════════════════════\n",
      "\n"
     ]
    },
    {
     "name": "stdin",
     "output_type": "stream",
     "text": [
      "Enter types of functions you would you like to fit: (for example: \u001b[1mall\u001b[0m or \u001b[1m1,2,3\u001b[0m or \u001b[1m9\u001b[0m):  all\n"
     ]
    },
    {
     "name": "stdout",
     "output_type": "stream",
     "text": [
      "\n",
      "═══ SELECTED CONFIGURATION ════\n",
      "Engine: approaches/least_squares_numba.py\n",
      "Regression types: [1, 2, 3, 4]\n",
      "Function types: [1, 2, 3, 4, 5, 6, 7, 8, 9, 10, 11, 12, 13, 14, 15, 16]\n",
      "═══════════════════════════════\n",
      "\n",
      "\u001b[1mSummary:\u001b[0m 64 successful, 0 failed, 0 not implemented\n",
      "\n",
      "══════ Would you like to ══════\n",
      "1. Visualize results on one image\n",
      "2. Visualize results per image\n",
      "3. Print coefficients\n",
      "4. Print condition numbers of methods\n",
      "5. Print selected configurations\n",
      "6. Performance benchmark (timer engines)\n",
      "7. Exit\n",
      "═══════════════════════════════\n",
      "\n"
     ]
    },
    {
     "name": "stdin",
     "output_type": "stream",
     "text": [
      "Choose option (1-7):  6\n"
     ]
    },
    {
     "name": "stdout",
     "output_type": "stream",
     "text": [
      "\n",
      "═══════ COMPREHENSIVE REGRESSION ENGINES BENCHMARK ═══════\n",
      "\n"
     ]
    },
    {
     "name": "stdin",
     "output_type": "stream",
     "text": [
      "Timing runs (recommended <1000, default 10):  1000\n"
     ]
    },
    {
     "name": "stdout",
     "output_type": "stream",
     "text": [
      "\n",
      "\u001b[1mAutomatic benchmark configuration:\u001b[0m\n",
      "  • Testing all engines: NumPy, Numba (with & without warm up), Pure Python\n",
      "  • Testing both pipeline and core performance\n",
      "  • Testing polynomial functions of degrees 1-7\n",
      "\n",
      "\u001b[1mRunning comprehensive benchmark with:\u001b[0m\n",
      "  • Number of runs per test: 1000\n",
      "  • Regression types: 4 (Linear, Ridge, Lasso, ElasticNet)\n",
      "  • Function types: 7 (Polynomial degrees 1-7)\n",
      "  • Total combinations: 28\n",
      "  • Data points: 100\n",
      "  • Engines: NumPy, Numba (cold + warm), Pure Python\n",
      "\n",
      "═══════════════════ STARTING BENCHMARK ═══════════════════\n",
      "\n",
      "Testing NumPy full pipeline... \u001b[93mClearing caches...\u001b[0m \u001b[92mDone\u001b[0m\n",
      "\n",
      "\u001b[92m25.4ms\u001b[0m\n",
      "\n",
      "Testing Pure Python full pipeline... \u001b[93mClearing caches...\u001b[0m \u001b[92mDone\u001b[0m\n",
      "\n",
      "\u001b[92m80.7ms\u001b[0m\n",
      "\n",
      "\u001b[1mTesting Numba Cold Start (with JIT compilation):\u001b[0m\n",
      "Testing Numba pipeline (COLD)... \u001b[93mClearing caches...\u001b[0m \u001b[92mDone\u001b[0m\n",
      "\n",
      "\u001b[92m48.3ms\u001b[0m\n",
      "\n",
      "\u001b[1mTesting Numba Warm Start (JIT pre-compiled):\u001b[0m\n",
      "Testing Numba pipeline (WARM)... \u001b[92mDone\u001b[0m\n",
      " \n",
      "\u001b[92m5.3ms\u001b[0m\n",
      "\n",
      "\u001b[1m══════════ FULL IMPLEMENTATION BENCHMARK RESULTS ══════════\u001b[0m\n",
      "\n",
      "Full implementation with fitting, transformation, and prediction\n",
      "Operations: 28 combinations | Runs: 1000 each\n",
      "\n",
      "╭──────────────┬────────────────┬──────────────╮\n",
      "│ Engine       │ Average Time   │ vs Fastest   │\n",
      "├──────────────┼────────────────┼──────────────┤\n",
      "│ Numba (Warm) │ 5.3ms          │ baseline     │\n",
      "├──────────────┼────────────────┼──────────────┤\n",
      "│ NumPy        │ 25.4ms         │ 4.76x        │\n",
      "├──────────────┼────────────────┼──────────────┤\n",
      "│ Numba (Cold) │ 48.3ms         │ 9.03x        │\n",
      "├──────────────┼────────────────┼──────────────┤\n",
      "│ Pure Python  │ 80.7ms         │ 15.12x       │\n",
      "╰──────────────┴────────────────┴──────────────╯\n",
      "\n",
      "═══════════════════════════════════════════════════════════\n"
     ]
    },
    {
     "name": "stdin",
     "output_type": "stream",
     "text": [
      "\n",
      "Press Enter to continue... \n"
     ]
    },
    {
     "name": "stdout",
     "output_type": "stream",
     "text": [
      "\n",
      "══════ Would you like to ══════\n",
      "1. Visualize results on one image\n",
      "2. Visualize results per image\n",
      "3. Print coefficients\n",
      "4. Print condition numbers of methods\n",
      "5. Print selected configurations\n",
      "6. Performance benchmark (timer engines)\n",
      "7. Exit\n",
      "═══════════════════════════════\n",
      "\n"
     ]
    }
   ],
   "source": [
    "%run linear-least-squares-methods/main.py"
   ]
  },
  {
   "cell_type": "code",
   "execution_count": null,
   "id": "306d7209-8965-4aa1-927f-a75e2ce94c53",
   "metadata": {},
   "outputs": [],
   "source": []
  }
 ],
 "metadata": {
  "kernelspec": {
   "display_name": "Python 3 (ipykernel)",
   "language": "python",
   "name": "python3"
  },
  "language_info": {
   "codemirror_mode": {
    "name": "ipython",
    "version": 3
   },
   "file_extension": ".py",
   "mimetype": "text/x-python",
   "name": "python",
   "nbconvert_exporter": "python",
   "pygments_lexer": "ipython3",
   "version": "3.12.2"
  }
 },
 "nbformat": 4,
 "nbformat_minor": 5
}
