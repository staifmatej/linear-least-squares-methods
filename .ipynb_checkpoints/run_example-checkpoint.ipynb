{
 "cells": [
  {
   "cell_type": "code",
   "execution_count": 1,
   "id": "9d5b781e-2975-411f-9e15-e2c3f2ce0d76",
   "metadata": {},
   "outputs": [],
   "source": [
    "# Program Example Run of Linear Least Square Method"
   ]
  },
  {
   "cell_type": "code",
   "execution_count": null,
   "id": "5e40c645-8e93-44d6-bec7-f9fcc418b398",
   "metadata": {},
   "outputs": [
    {
     "name": "stdout",
     "output_type": "stream",
     "text": [
      "\n",
      "===== Data Input Options =====\n",
      "1. Manual input (2D points)\n",
      "2. Manual input (multidimensional)\n",
      "3. Load from CSV file\n",
      "4. Generate synthetic data\n",
      "5. Use example dataset\n",
      "===============================\n"
     ]
    },
    {
     "name": "stdin",
     "output_type": "stream",
     "text": [
      "\n",
      "Choose option (1-5):  5\n"
     ]
    },
    {
     "name": "stdout",
     "output_type": "stream",
     "text": [
      "\n",
      "====== Example datasets =======\n",
      "1. House prices (size vs price)\n",
      "2. Temperature data (time vs temp)\n",
      "3. Quadratic function\n",
      "4. Sinusoidal function\n",
      "===============================\n",
      "\n"
     ]
    },
    {
     "name": "stdin",
     "output_type": "stream",
     "text": [
      "Choose example (1-4):  2\n"
     ]
    },
    {
     "name": "stdout",
     "output_type": "stream",
     "text": [
      "\n",
      "========= Data loaded =========\n",
      "X shape: (25, 1)\n",
      "y shape: (25,)\n",
      "===============================\n",
      "\n",
      "\n",
      "===== Regression Engines =====\n",
      "1. C++ with ML Pack\n",
      "2. Python with Numpy\n",
      "3. Python with Numba\n",
      "4. Pure Python with for-loops\n",
      "\u001b[1m* Lasso/ElasticNet use sklearn coordinate descent\u001b[0m\n",
      "===============================\n"
     ]
    },
    {
     "name": "stdin",
     "output_type": "stream",
     "text": [
      "\n",
      "Choose option (1-4):  1\n"
     ]
    },
    {
     "name": "stdout",
     "output_type": "stream",
     "text": [
      "\n",
      "===== Types of regression =====\n",
      "1. Polynomial regression (Least Squares)\n",
      "2. Ridge regression (Least Squares)\n",
      "3. Lasso Regression (CoordinateDescent)\n",
      "4. Elastic Net Regression (CoordinateDescent)\n",
      "===============================\n",
      "\n"
     ]
    }
   ],
   "source": [
    "%run linear-least-squares-methods/main.py"
   ]
  },
  {
   "cell_type": "code",
   "execution_count": null,
   "id": "8b896f3d-4c8d-4c16-a48d-c27ad3f0b710",
   "metadata": {},
   "outputs": [],
   "source": []
  }
 ],
 "metadata": {
  "kernelspec": {
   "display_name": "Python 3 (ipykernel)",
   "language": "python",
   "name": "python3"
  },
  "language_info": {
   "codemirror_mode": {
    "name": "ipython",
    "version": 3
   },
   "file_extension": ".py",
   "mimetype": "text/x-python",
   "name": "python",
   "nbconvert_exporter": "python",
   "pygments_lexer": "ipython3",
   "version": "3.12.2"
  }
 },
 "nbformat": 4,
 "nbformat_minor": 5
}
